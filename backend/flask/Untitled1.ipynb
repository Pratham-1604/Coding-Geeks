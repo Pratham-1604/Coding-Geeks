{
  "cells": [
    {
      "cell_type": "code",
      "execution_count": 1,
      "metadata": {
        "id": "DgCDmTXBZN6A"
      },
      "outputs": [],
      "source": [
        "import numpy as np\n",
        "import pandas as pd\n",
        "import matplotlib.pyplot as plt\n"
      ]
    },
    {
      "cell_type": "code",
      "execution_count": 2,
      "metadata": {
        "id": "0MaHKhlZZbcp"
      },
      "outputs": [],
      "source": [
        "df1=pd.read_csv('df1.csv')\n",
        "#df2=pd.read_csv('df2.csv')"
      ]
    },
    {
      "cell_type": "code",
      "execution_count": 3,
      "metadata": {
        "colab": {
          "base_uri": "https://localhost:8080/",
          "height": 481
        },
        "id": "o-oxpruFZkNl",
        "outputId": "2df22fe1-0e38-4209-e02c-a9ebe547927e"
      },
      "outputs": [
        {
          "data": {
            "text/html": [
              "<div>\n",
              "<style scoped>\n",
              "    .dataframe tbody tr th:only-of-type {\n",
              "        vertical-align: middle;\n",
              "    }\n",
              "\n",
              "    .dataframe tbody tr th {\n",
              "        vertical-align: top;\n",
              "    }\n",
              "\n",
              "    .dataframe thead th {\n",
              "        text-align: right;\n",
              "    }\n",
              "</style>\n",
              "<table border=\"1\" class=\"dataframe\">\n",
              "  <thead>\n",
              "    <tr style=\"text-align: right;\">\n",
              "      <th></th>\n",
              "      <th>t1</th>\n",
              "      <th>t2</th>\n",
              "      <th>t3</th>\n",
              "      <th>t4</th>\n",
              "      <th>t5</th>\n",
              "      <th>t6</th>\n",
              "      <th>nearest metro station distance(in km)</th>\n",
              "      <th>type of road</th>\n",
              "      <th>nearest police chowki</th>\n",
              "      <th>average dist from police chowki</th>\n",
              "      <th>...</th>\n",
              "      <th>population density</th>\n",
              "      <th>rape</th>\n",
              "      <th>Acid attack</th>\n",
              "      <th>Assault on Women</th>\n",
              "      <th>Sexual Harassment</th>\n",
              "      <th>use of criminal force to women</th>\n",
              "      <th>Stalking</th>\n",
              "      <th>Other Assault on Women</th>\n",
              "      <th>sum</th>\n",
              "      <th>crm</th>\n",
              "    </tr>\n",
              "  </thead>\n",
              "  <tbody>\n",
              "    <tr>\n",
              "      <th>0</th>\n",
              "      <td>1</td>\n",
              "      <td>0</td>\n",
              "      <td>0</td>\n",
              "      <td>0</td>\n",
              "      <td>0</td>\n",
              "      <td>0</td>\n",
              "      <td>1.20</td>\n",
              "      <td>major district road</td>\n",
              "      <td>2.500</td>\n",
              "      <td>5</td>\n",
              "      <td>...</td>\n",
              "      <td>582320</td>\n",
              "      <td>91</td>\n",
              "      <td>212</td>\n",
              "      <td>54</td>\n",
              "      <td>9</td>\n",
              "      <td>26</td>\n",
              "      <td>123</td>\n",
              "      <td>37</td>\n",
              "      <td>997.48</td>\n",
              "      <td>143.63712</td>\n",
              "    </tr>\n",
              "    <tr>\n",
              "      <th>1</th>\n",
              "      <td>1</td>\n",
              "      <td>0</td>\n",
              "      <td>0</td>\n",
              "      <td>0</td>\n",
              "      <td>0</td>\n",
              "      <td>0</td>\n",
              "      <td>5.10</td>\n",
              "      <td>district road</td>\n",
              "      <td>17.400</td>\n",
              "      <td>14</td>\n",
              "      <td>...</td>\n",
              "      <td>2292958</td>\n",
              "      <td>234</td>\n",
              "      <td>494</td>\n",
              "      <td>86</td>\n",
              "      <td>57</td>\n",
              "      <td>99</td>\n",
              "      <td>248</td>\n",
              "      <td>68</td>\n",
              "      <td>2305.64</td>\n",
              "      <td>332.01216</td>\n",
              "    </tr>\n",
              "    <tr>\n",
              "      <th>2</th>\n",
              "      <td>1</td>\n",
              "      <td>0</td>\n",
              "      <td>0</td>\n",
              "      <td>0</td>\n",
              "      <td>0</td>\n",
              "      <td>0</td>\n",
              "      <td>5.70</td>\n",
              "      <td>major district road</td>\n",
              "      <td>2.700</td>\n",
              "      <td>7</td>\n",
              "      <td>...</td>\n",
              "      <td>2292958</td>\n",
              "      <td>266</td>\n",
              "      <td>469</td>\n",
              "      <td>85</td>\n",
              "      <td>34</td>\n",
              "      <td>74</td>\n",
              "      <td>274</td>\n",
              "      <td>123</td>\n",
              "      <td>2428.50</td>\n",
              "      <td>349.70400</td>\n",
              "    </tr>\n",
              "    <tr>\n",
              "      <th>3</th>\n",
              "      <td>1</td>\n",
              "      <td>0</td>\n",
              "      <td>0</td>\n",
              "      <td>0</td>\n",
              "      <td>0</td>\n",
              "      <td>0</td>\n",
              "      <td>0.27</td>\n",
              "      <td>major district road</td>\n",
              "      <td>2.600</td>\n",
              "      <td>14</td>\n",
              "      <td>...</td>\n",
              "      <td>582320</td>\n",
              "      <td>91</td>\n",
              "      <td>212</td>\n",
              "      <td>54</td>\n",
              "      <td>9</td>\n",
              "      <td>26</td>\n",
              "      <td>123</td>\n",
              "      <td>37</td>\n",
              "      <td>997.48</td>\n",
              "      <td>143.63712</td>\n",
              "    </tr>\n",
              "    <tr>\n",
              "      <th>4</th>\n",
              "      <td>1</td>\n",
              "      <td>0</td>\n",
              "      <td>0</td>\n",
              "      <td>0</td>\n",
              "      <td>0</td>\n",
              "      <td>0</td>\n",
              "      <td>2.40</td>\n",
              "      <td>major district road</td>\n",
              "      <td>0.393</td>\n",
              "      <td>14</td>\n",
              "      <td>...</td>\n",
              "      <td>582320</td>\n",
              "      <td>91</td>\n",
              "      <td>212</td>\n",
              "      <td>54</td>\n",
              "      <td>9</td>\n",
              "      <td>26</td>\n",
              "      <td>123</td>\n",
              "      <td>37</td>\n",
              "      <td>997.48</td>\n",
              "      <td>143.63712</td>\n",
              "    </tr>\n",
              "  </tbody>\n",
              "</table>\n",
              "<p>5 rows × 21 columns</p>\n",
              "</div>"
            ],
            "text/plain": [
              "   t1  t2  t3  t4  t5  t6  nearest metro station distance(in km)  \\\n",
              "0   1   0   0   0   0   0                                   1.20   \n",
              "1   1   0   0   0   0   0                                   5.10   \n",
              "2   1   0   0   0   0   0                                   5.70   \n",
              "3   1   0   0   0   0   0                                   0.27   \n",
              "4   1   0   0   0   0   0                                   2.40   \n",
              "\n",
              "          type of road  nearest police chowki  \\\n",
              "0  major district road                  2.500   \n",
              "1        district road                 17.400   \n",
              "2  major district road                  2.700   \n",
              "3  major district road                  2.600   \n",
              "4  major district road                  0.393   \n",
              "\n",
              "   average dist from police chowki  ...  population density  rape  \\\n",
              "0                                5  ...              582320    91   \n",
              "1                               14  ...             2292958   234   \n",
              "2                                7  ...             2292958   266   \n",
              "3                               14  ...              582320    91   \n",
              "4                               14  ...              582320    91   \n",
              "\n",
              "   Acid attack  Assault on Women  Sexual Harassment  \\\n",
              "0          212                54                  9   \n",
              "1          494                86                 57   \n",
              "2          469                85                 34   \n",
              "3          212                54                  9   \n",
              "4          212                54                  9   \n",
              "\n",
              "   use of criminal force to women  Stalking  Other Assault on Women      sum  \\\n",
              "0                              26       123                      37   997.48   \n",
              "1                              99       248                      68  2305.64   \n",
              "2                              74       274                     123  2428.50   \n",
              "3                              26       123                      37   997.48   \n",
              "4                              26       123                      37   997.48   \n",
              "\n",
              "         crm  \n",
              "0  143.63712  \n",
              "1  332.01216  \n",
              "2  349.70400  \n",
              "3  143.63712  \n",
              "4  143.63712  \n",
              "\n",
              "[5 rows x 21 columns]"
            ]
          },
          "execution_count": 3,
          "metadata": {},
          "output_type": "execute_result"
        }
      ],
      "source": [
        "df1.head()"
      ]
    },
    {
      "cell_type": "code",
      "execution_count": 4,
      "metadata": {
        "id": "JJTCA5yXxVKt"
      },
      "outputs": [],
      "source": [
        "# df3=df2.iloc[:,7:14].values\n",
        "# df3=pd.DataFrame(df3)\n",
        "# df3.head()"
      ]
    },
    {
      "cell_type": "code",
      "execution_count": 5,
      "metadata": {
        "id": "ZBtQ0xMZZr_G"
      },
      "outputs": [],
      "source": [
        "# df4 = pd.concat([df1, df2], ignore_index=True)\n",
        "# df4.head()"
      ]
    },
    {
      "cell_type": "code",
      "execution_count": 6,
      "metadata": {
        "id": "vzF_SfrfsNRE"
      },
      "outputs": [
        {
          "name": "stdout",
          "output_type": "stream",
          "text": [
            "WARNING:tensorflow:From c:\\Users\\omkar\\AppData\\Local\\Programs\\Python\\Python311\\Lib\\site-packages\\keras\\src\\losses.py:2976: The name tf.losses.sparse_softmax_cross_entropy is deprecated. Please use tf.compat.v1.losses.sparse_softmax_cross_entropy instead.\n",
            "\n"
          ]
        }
      ],
      "source": [
        "import tensorflow as tf"
      ]
    },
    {
      "cell_type": "code",
      "execution_count": 7,
      "metadata": {
        "id": "_WulLCATstE5"
      },
      "outputs": [],
      "source": [
        "X=df1.iloc[:,[0,1,2,3,4,5,6,8,9,10,11]].values\n",
        "y=df1.iloc[:,-1].values"
      ]
    },
    {
      "cell_type": "code",
      "execution_count": 8,
      "metadata": {
        "id": "a48Zb5D6td9y"
      },
      "outputs": [],
      "source": [
        "from sklearn.model_selection import train_test_split\n",
        "X_train, X_test, y_train, y_test = train_test_split(X, y, test_size = 0.2, random_state = 0)"
      ]
    },
    {
      "cell_type": "code",
      "execution_count": 9,
      "metadata": {
        "id": "0xfxqyVKtfrq"
      },
      "outputs": [],
      "source": [
        "# from sklearn.preprocessing import StandardScaler\n",
        "# sc = StandardScaler()\n",
        "# X_train = sc.fit_transform(X_train)\n",
        "# X_test = sc.transform(X_test)"
      ]
    },
    {
      "cell_type": "code",
      "execution_count": 10,
      "metadata": {
        "id": "Dnl_-uO541GI"
      },
      "outputs": [],
      "source": [
        "median_value = df1['crm'].median()"
      ]
    },
    {
      "cell_type": "code",
      "execution_count": 11,
      "metadata": {
        "id": "MSRQ0G9lty3B"
      },
      "outputs": [],
      "source": [
        "# ann = tf.keras.models.Sequential()\n",
        "# ann.add(tf.keras.layers.Dense(units=6, activation='relu',input_shape=(11,)))\n",
        "# ann.add(tf.keras.layers.Dense(units=6, activation='relu'))\n",
        "# ann.add(tf.keras.layers.Dense(units=1))\n",
        "# ann.compile(optimizer = 'adam', loss = 'mean_squared_error', metrics = ['mean_squared_error'])"
      ]
    },
    {
      "cell_type": "code",
      "execution_count": 12,
      "metadata": {
        "id": "ox3Gowa4AKLZ"
      },
      "outputs": [],
      "source": [
        "# ann.fit(X_train, y_train, batch_size = 32, epochs = 100)"
      ]
    },
    {
      "cell_type": "code",
      "execution_count": 13,
      "metadata": {
        "colab": {
          "base_uri": "https://localhost:8080/",
          "height": 75
        },
        "id": "NMmGQS6YAq9V",
        "outputId": "725418f5-4eda-4bec-e94e-24cbbdf5aba8"
      },
      "outputs": [
        {
          "data": {
            "text/html": [
              "<style>#sk-container-id-1 {color: black;}#sk-container-id-1 pre{padding: 0;}#sk-container-id-1 div.sk-toggleable {background-color: white;}#sk-container-id-1 label.sk-toggleable__label {cursor: pointer;display: block;width: 100%;margin-bottom: 0;padding: 0.3em;box-sizing: border-box;text-align: center;}#sk-container-id-1 label.sk-toggleable__label-arrow:before {content: \"▸\";float: left;margin-right: 0.25em;color: #696969;}#sk-container-id-1 label.sk-toggleable__label-arrow:hover:before {color: black;}#sk-container-id-1 div.sk-estimator:hover label.sk-toggleable__label-arrow:before {color: black;}#sk-container-id-1 div.sk-toggleable__content {max-height: 0;max-width: 0;overflow: hidden;text-align: left;background-color: #f0f8ff;}#sk-container-id-1 div.sk-toggleable__content pre {margin: 0.2em;color: black;border-radius: 0.25em;background-color: #f0f8ff;}#sk-container-id-1 input.sk-toggleable__control:checked~div.sk-toggleable__content {max-height: 200px;max-width: 100%;overflow: auto;}#sk-container-id-1 input.sk-toggleable__control:checked~label.sk-toggleable__label-arrow:before {content: \"▾\";}#sk-container-id-1 div.sk-estimator input.sk-toggleable__control:checked~label.sk-toggleable__label {background-color: #d4ebff;}#sk-container-id-1 div.sk-label input.sk-toggleable__control:checked~label.sk-toggleable__label {background-color: #d4ebff;}#sk-container-id-1 input.sk-hidden--visually {border: 0;clip: rect(1px 1px 1px 1px);clip: rect(1px, 1px, 1px, 1px);height: 1px;margin: -1px;overflow: hidden;padding: 0;position: absolute;width: 1px;}#sk-container-id-1 div.sk-estimator {font-family: monospace;background-color: #f0f8ff;border: 1px dotted black;border-radius: 0.25em;box-sizing: border-box;margin-bottom: 0.5em;}#sk-container-id-1 div.sk-estimator:hover {background-color: #d4ebff;}#sk-container-id-1 div.sk-parallel-item::after {content: \"\";width: 100%;border-bottom: 1px solid gray;flex-grow: 1;}#sk-container-id-1 div.sk-label:hover label.sk-toggleable__label {background-color: #d4ebff;}#sk-container-id-1 div.sk-serial::before {content: \"\";position: absolute;border-left: 1px solid gray;box-sizing: border-box;top: 0;bottom: 0;left: 50%;z-index: 0;}#sk-container-id-1 div.sk-serial {display: flex;flex-direction: column;align-items: center;background-color: white;padding-right: 0.2em;padding-left: 0.2em;position: relative;}#sk-container-id-1 div.sk-item {position: relative;z-index: 1;}#sk-container-id-1 div.sk-parallel {display: flex;align-items: stretch;justify-content: center;background-color: white;position: relative;}#sk-container-id-1 div.sk-item::before, #sk-container-id-1 div.sk-parallel-item::before {content: \"\";position: absolute;border-left: 1px solid gray;box-sizing: border-box;top: 0;bottom: 0;left: 50%;z-index: -1;}#sk-container-id-1 div.sk-parallel-item {display: flex;flex-direction: column;z-index: 1;position: relative;background-color: white;}#sk-container-id-1 div.sk-parallel-item:first-child::after {align-self: flex-end;width: 50%;}#sk-container-id-1 div.sk-parallel-item:last-child::after {align-self: flex-start;width: 50%;}#sk-container-id-1 div.sk-parallel-item:only-child::after {width: 0;}#sk-container-id-1 div.sk-dashed-wrapped {border: 1px dashed gray;margin: 0 0.4em 0.5em 0.4em;box-sizing: border-box;padding-bottom: 0.4em;background-color: white;}#sk-container-id-1 div.sk-label label {font-family: monospace;font-weight: bold;display: inline-block;line-height: 1.2em;}#sk-container-id-1 div.sk-label-container {text-align: center;}#sk-container-id-1 div.sk-container {/* jupyter's `normalize.less` sets `[hidden] { display: none; }` but bootstrap.min.css set `[hidden] { display: none !important; }` so we also need the `!important` here to be able to override the default hidden behavior on the sphinx rendered scikit-learn.org. See: https://github.com/scikit-learn/scikit-learn/issues/21755 */display: inline-block !important;position: relative;}#sk-container-id-1 div.sk-text-repr-fallback {display: none;}</style><div id=\"sk-container-id-1\" class=\"sk-top-container\"><div class=\"sk-text-repr-fallback\"><pre>RandomForestRegressor(n_estimators=10, random_state=0)</pre><b>In a Jupyter environment, please rerun this cell to show the HTML representation or trust the notebook. <br />On GitHub, the HTML representation is unable to render, please try loading this page with nbviewer.org.</b></div><div class=\"sk-container\" hidden><div class=\"sk-item\"><div class=\"sk-estimator sk-toggleable\"><input class=\"sk-toggleable__control sk-hidden--visually\" id=\"sk-estimator-id-1\" type=\"checkbox\" checked><label for=\"sk-estimator-id-1\" class=\"sk-toggleable__label sk-toggleable__label-arrow\">RandomForestRegressor</label><div class=\"sk-toggleable__content\"><pre>RandomForestRegressor(n_estimators=10, random_state=0)</pre></div></div></div></div></div>"
            ],
            "text/plain": [
              "RandomForestRegressor(n_estimators=10, random_state=0)"
            ]
          },
          "execution_count": 13,
          "metadata": {},
          "output_type": "execute_result"
        }
      ],
      "source": [
        "from sklearn.ensemble import RandomForestRegressor\n",
        "regressor = RandomForestRegressor(n_estimators = 10, random_state = 0)\n",
        "regressor.fit(X_train, y_train)"
      ]
    },
    {
      "cell_type": "code",
      "execution_count": 14,
      "metadata": {
        "colab": {
          "base_uri": "https://localhost:8080/"
        },
        "id": "fCDz6Lw2B3eN",
        "outputId": "be50237a-64c9-46ec-99af-693ea2daddf9"
      },
      "outputs": [
        {
          "name": "stdout",
          "output_type": "stream",
          "text": [
            "[0.64864865]\n"
          ]
        }
      ],
      "source": [
        "yy=regressor.predict([[1,0,0,0,0,0,1.2,2.5,5,6,500000]])\n",
        "print(yy/median_value)"
      ]
    }
  ],
  "metadata": {
    "colab": {
      "provenance": []
    },
    "kernelspec": {
      "display_name": "Python 3",
      "name": "python3"
    },
    "language_info": {
      "codemirror_mode": {
        "name": "ipython",
        "version": 3
      },
      "file_extension": ".py",
      "mimetype": "text/x-python",
      "name": "python",
      "nbconvert_exporter": "python",
      "pygments_lexer": "ipython3",
      "version": "3.11.4"
    }
  },
  "nbformat": 4,
  "nbformat_minor": 0
}
